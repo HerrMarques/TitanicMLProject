{
 "cells": [
  {
   "cell_type": "code",
   "execution_count": null,
   "metadata": {},
   "outputs": [],
   "source": [
    "import pandas as po\n",
    "import seaborn as sb\n",
    "import matplotlib.pyplot as plt\n",
    "po.options.mode.chained_assignment = None \n",
    "%matplotlib inline\n",
    "import warnings\n",
    "warnings.filterwarnings('ignore')"
   ]
  },
  {
   "cell_type": "markdown",
   "metadata": {},
   "source": [
    "First step is to load up the data and describe the columns and check for differences."
   ]
  },
  {
   "cell_type": "code",
   "execution_count": null,
   "metadata": {},
   "outputs": [],
   "source": [
    "train_data = po.read_csv('../../titanic/input/train.csv', index_col=\"PassengerId\")\n",
    "test_data = po.read_csv(\"../../titanic/input/test.csv\", index_col=\"PassengerId\")"
   ]
  },
  {
   "cell_type": "code",
   "execution_count": null,
   "metadata": {},
   "outputs": [],
   "source": [
    "print(train_data.info())\n",
    "print(train_data.isna().sum())"
   ]
  },
  {
   "cell_type": "code",
   "execution_count": null,
   "metadata": {},
   "outputs": [],
   "source": [
    "print(test_data.info())\n",
    "print(test_data.isna().sum())"
   ]
  },
  {
   "cell_type": "markdown",
   "metadata": {},
   "source": [
    "In the training set we are missing 177 ages, 2 embarked and 687 cabins. In the test set we're missing 86 ages, 1 fare and 327 cabins.\n",
    "\n",
    "With a lot of missing cabins it might make sense to drop the column but we will keep it for now.\n",
    "\n"
   ]
  },
  {
   "cell_type": "markdown",
   "metadata": {},
   "source": [
    "Visualising the Data\n",
    "I want to see how each of the variables is associated with survival. Lets go in order:\n",
    "\n",
    "1) Pclass:"
   ]
  },
  {
   "cell_type": "code",
   "execution_count": null,
   "metadata": {},
   "outputs": [],
   "source": [
    "print(train_data[\"Pclass\"].unique())\n",
    "train_data[['Pclass', 'Survived']].groupby(['Pclass'], as_index=False).mean().sort_values(by='Survived', ascending=False)"
   ]
  },
  {
   "cell_type": "markdown",
   "metadata": {},
   "source": [
    "There are three classes (1, 2 and 3) representing first, second or third class tickets on the boat.\n",
    "\n",
    "It seems like the passenger's class has a strong association with survival, with the higher class passengers having a higher survival rate. It makes sense to include this in the model, likely without much change.\n",
    "\n",
    "2) Name"
   ]
  },
  {
   "cell_type": "code",
   "execution_count": null,
   "metadata": {},
   "outputs": [],
   "source": [
    "print(train_data[\"Name\"])"
   ]
  }
 ],
 "metadata": {
  "language_info": {
   "name": "python"
  }
 },
 "nbformat": 4,
 "nbformat_minor": 2
}
