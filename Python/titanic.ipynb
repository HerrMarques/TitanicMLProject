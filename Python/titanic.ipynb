{
 "cells": [
  {
   "cell_type": "code",
   "execution_count": 1,
   "metadata": {},
   "outputs": [],
   "source": [
    "import numpy as np \n",
    "import pandas as po\n",
    "import seaborn as sb\n",
    "import matplotlib.pyplot as plt\n",
    "from sklearn.preprocessing import StandardScaler"
   ]
  },
  {
   "cell_type": "code",
   "execution_count": 2,
   "metadata": {},
   "outputs": [],
   "source": [
    "emsemble_dapprentissage = po.read_csv('../../titanic/input/train.csv', index_col=\"PassengerId\")\n",
    "emsemble_test = po.read_csv(\"../../titanic/input/test.csv\", index_col=\"PassengerId\")"
   ]
  },
  {
   "cell_type": "code",
   "execution_count": 3,
   "metadata": {},
   "outputs": [
    {
     "data": {
      "text/plain": [
       "Index(['Survived', 'Pclass', 'Name', 'Sex', 'Age', 'SibSp', 'Parch', 'Ticket',\n",
       "       'Fare', 'Cabin', 'Embarked', 'train_test'],\n",
       "      dtype='object')"
      ]
     },
     "execution_count": 3,
     "metadata": {},
     "output_type": "execute_result"
    }
   ],
   "source": [
    "emsemble_dapprentissage['train_test'] = 1\n",
    "emsemble_test['train_test'] = 0\n",
    "emsemble_test['Survived'] = np.NaN\n",
    "toutes_les_données= po.concat([emsemble_dapprentissage,emsemble_test])\n",
    "\n",
    "%matplotlib inline\n",
    "toutes_les_données.columns"
   ]
  },
  {
   "cell_type": "code",
   "execution_count": null,
   "metadata": {},
   "outputs": [],
   "source": [
    "emsemble_dapprentissage.info()"
   ]
  },
  {
   "cell_type": "code",
   "execution_count": null,
   "metadata": {},
   "outputs": [],
   "source": [
    "emsemble_dapprentissage.describe()"
   ]
  },
  {
   "cell_type": "code",
   "execution_count": 6,
   "metadata": {},
   "outputs": [
    {
     "data": {
      "text/plain": [
       "Index(['Survived', 'Pclass', 'Age', 'SibSp', 'Parch', 'Fare', 'train_test'], dtype='object')"
      ]
     },
     "execution_count": 6,
     "metadata": {},
     "output_type": "execute_result"
    }
   ],
   "source": [
    "emsemble_dapprentissage.describe().columns"
   ]
  },
  {
   "cell_type": "code",
   "execution_count": 7,
   "metadata": {},
   "outputs": [],
   "source": [
    "chiffre = emsemble_dapprentissage[['Age','SibSp','Parch','Fare']]\n",
    "categorie = emsemble_dapprentissage[['Survived','Pclass','Sex','Ticket','Cabin','Embarked']]"
   ]
  },
  {
   "cell_type": "code",
   "execution_count": null,
   "metadata": {},
   "outputs": [],
   "source": [
    "for i in chiffre.columns:\n",
    "    plt.hist(chiffre[i])\n",
    "    plt.title(i)\n",
    "    plt.show()"
   ]
  },
  {
   "cell_type": "code",
   "execution_count": 9,
   "metadata": {},
   "outputs": [
    {
     "name": "stdout",
     "output_type": "stream",
     "text": [
      "            Age     SibSp     Parch      Fare\n",
      "Age    1.000000 -0.308247 -0.189119  0.096067\n",
      "SibSp -0.308247  1.000000  0.414838  0.159651\n",
      "Parch -0.189119  0.414838  1.000000  0.216225\n",
      "Fare   0.096067  0.159651  0.216225  1.000000\n"
     ]
    },
    {
     "data": {
      "text/plain": [
       "<Axes: >"
      ]
     },
     "execution_count": 9,
     "metadata": {},
     "output_type": "execute_result"
    },
    {
     "data": {
      "image/png": "[encoded data removed]",
      "text/plain": [
       "<Figure size 640x480 with 2 Axes>"
      ]
     },
     "metadata": {},
     "output_type": "display_data"
    }
   ],
   "source": [
    "print(chiffre.corr())\n",
    "sb.heatmap(chiffre.corr())"
   ]
  },
  {
   "cell_type": "code",
   "execution_count": null,
   "metadata": {},
   "outputs": [],
   "source": [
    "po.pivot_table(emsemble_dapprentissage, index = 'Survived', values = ['Age','SibSp','Parch','Fare'])"
   ]
  },
  {
   "cell_type": "code",
   "execution_count": null,
   "metadata": {},
   "outputs": [],
   "source": [
    "for i in categorie.columns:\n",
    "    sb.barplot(x=categorie[i].value_counts().index,y=categorie[i].value_counts()).set_title(i)\n",
    "    plt.show()"
   ]
  },
  {
   "cell_type": "code",
   "execution_count": null,
   "metadata": {},
   "outputs": [],
   "source": [
    "print(po.pivot_table(emsemble_dapprentissage, index = 'Survived', columns = 'Pclass', values = 'Ticket' ,aggfunc ='count'))\n",
    "print()\n",
    "print(po.pivot_table(emsemble_dapprentissage, index = 'Survived', columns = 'Sex', values = 'Ticket' ,aggfunc ='count'))\n",
    "print()\n",
    "print(po.pivot_table(emsemble_dapprentissage, index = 'Survived', columns = 'Embarked', values = 'Ticket' ,aggfunc ='count'))"
   ]
  },
  {
   "cell_type": "code",
   "execution_count": null,
   "metadata": {},
   "outputs": [],
   "source": [
    "categorie.Cabin\n",
    "emsemble_dapprentissage['cabin_multiple'] = emsemble_dapprentissage.Cabin.apply(lambda x: 0 if po.isna(x) else len(x.split(' ')))\n",
    "# after looking at this, we may want to look at cabin by letter or by number. Let's create some categories for this \n",
    "# letters \n",
    "# multiple letters \n",
    "emsemble_dapprentissage['cabin_multiple'].value_counts()"
   ]
  },
  {
   "cell_type": "code",
   "execution_count": null,
   "metadata": {},
   "outputs": [],
   "source": [
    "po.pivot_table(emsemble_dapprentissage, index = 'Survived', columns = 'cabin_multiple', values = 'Ticket' ,aggfunc ='count')"
   ]
  },
  {
   "cell_type": "code",
   "execution_count": 15,
   "metadata": {},
   "outputs": [],
   "source": [
    "emsemble_dapprentissage['cabin_adv'] = emsemble_dapprentissage.Cabin.apply(lambda x: str(x)[0])"
   ]
  },
  {
   "cell_type": "code",
   "execution_count": null,
   "metadata": {},
   "outputs": [],
   "source": [
    "#comparing surivial rate by cabin\n",
    "print(emsemble_dapprentissage.cabin_adv.value_counts())\n",
    "po.pivot_table(emsemble_dapprentissage,index='Survived',columns='cabin_adv', values = 'Name', aggfunc='count')"
   ]
  },
  {
   "cell_type": "code",
   "execution_count": 17,
   "metadata": {},
   "outputs": [],
   "source": [
    "emsemble_dapprentissage['numeric_ticket'] = emsemble_dapprentissage.Ticket.apply(lambda x: \"Chiffre\" if x.isnumeric() else \"Lettres\")\n",
    "emsemble_dapprentissage['ticket_letters'] = emsemble_dapprentissage.Ticket.apply(lambda x: ''.join(x.split(' ')[:-1]).replace('.','').replace('/','').lower() if len(x.split(' ')[:-1]) >0 else 0)"
   ]
  },
  {
   "cell_type": "code",
   "execution_count": 18,
   "metadata": {},
   "outputs": [
    {
     "data": {
      "text/plain": [
       "numeric_ticket\n",
       "Chiffre    661\n",
       "Lettres    230\n",
       "Name: count, dtype: int64"
      ]
     },
     "execution_count": 18,
     "metadata": {},
     "output_type": "execute_result"
    }
   ],
   "source": [
    "emsemble_dapprentissage['numeric_ticket'].value_counts()"
   ]
  },
  {
   "cell_type": "code",
   "execution_count": null,
   "metadata": {},
   "outputs": [],
   "source": [
    "#difference in numeric vs non-numeric tickets in survival rate \n",
    "po.pivot_table(emsemble_dapprentissage,index='Survived',columns='numeric_ticket', values = 'Ticket', aggfunc='count')"
   ]
  },
  {
   "cell_type": "code",
   "execution_count": null,
   "metadata": {},
   "outputs": [],
   "source": [
    "#ingénierie des fonctionnalités sur le titre de la personne\n",
    "emsemble_dapprentissage.Name.head(50)\n",
    "emsemble_dapprentissage['name_title'] = emsemble_dapprentissage.Name.apply(lambda x: x.split(',')[1].split('.')[0].strip())\n",
    "emsemble_dapprentissage['name_title'].value_counts()"
   ]
  },
  {
   "cell_type": "code",
   "execution_count": 21,
   "metadata": {},
   "outputs": [],
   "source": [
    "#créer toutes les variables catégorielles que j'ai faites ci-dessus pour les ensembles de formation et de test\n",
    "toutes_les_données['cabin_multiple'] = toutes_les_données.Cabin.apply(lambda x: 0 if po.isna(x) else len(x.split(' ')))\n",
    "toutes_les_données['cabin_adv'] = toutes_les_données.Cabin.apply(lambda x: str(x)[0])\n",
    "toutes_les_données['numeric_ticket'] = toutes_les_données.Ticket.apply(lambda x: 1 if x.isnumeric() else 0)\n",
    "toutes_les_données['ticket_letters'] = toutes_les_données.Ticket.apply(lambda x: ''.join(x.split(' ')[:-1]).replace('.','').replace('/','').lower() if len(x.split(' ')[:-1]) >0 else 0)\n",
    "toutes_les_données['name_title'] = toutes_les_données.Name.apply(lambda x: x.split(',')[1].split('.')[0].strip())"
   ]
  },
  {
   "cell_type": "code",
   "execution_count": 22,
   "metadata": {},
   "outputs": [],
   "source": [
    "#impute des valeurs nulles pour les données continues\n",
    "toutes_les_données.Age = toutes_les_données.Age.fillna(emsemble_dapprentissage.Age.mean())\n",
    "# toutes_les_données.Age = toutes_les_données.Age.fillna(emsemble_dapprentissage.Age.median())\n",
    "#toutes_les_données.Fare = toutes_les_données.Fare.fillna(emsemble_dapprentissage.Fare.mean())\n",
    "toutes_les_données.Fare = toutes_les_données.Fare.fillna(emsemble_dapprentissage.Fare.median())"
   ]
  },
  {
   "cell_type": "code",
   "execution_count": null,
   "metadata": {},
   "outputs": [],
   "source": [
    "#drop les lignes nulles « embarquées ». Seulement 2 instances de cela en formation et 0 en test\n",
    "toutes_les_données.dropna(subset=['Embarked'],inplace = True)\n",
    "\n",
    "# log norm de la tarifaire\n",
    "toutes_les_données['norm_fare'] = np.log(toutes_les_données.Fare+1)\n",
    "toutes_les_données['norm_fare'].hist()\n",
    "\n",
    "#tarif converti en catégorie pour po.get_dummies()\n",
    "toutes_les_données.Pclass = toutes_les_données.Pclass.astype(str)\n",
    "\n",
    "#created dummy variables from categories (also can use OneHotEncoder)\n",
    "toute_dummies = po.get_dummies(toutes_les_données[['Pclass','Sex','Age','SibSp','Parch','norm_fare','Embarked','cabin_adv','cabin_multiple','numeric_ticket','name_title','train_test']])"
   ]
  },
  {
   "cell_type": "code",
   "execution_count": 24,
   "metadata": {},
   "outputs": [
    {
     "data": {
      "text/plain": [
       "(889,)"
      ]
     },
     "execution_count": 24,
     "metadata": {},
     "output_type": "execute_result"
    }
   ],
   "source": [
    "#Séparer pour s'entraîner à nouveau\n",
    "X_entraîner = toute_dummies[toute_dummies.train_test == 1].drop(['train_test'], axis =1)\n",
    "X_test = toute_dummies[toute_dummies.train_test == 0].drop(['train_test'], axis =1)\n",
    "\n",
    "\n",
    "y_entraîner = toutes_les_données[toutes_les_données.train_test==1].Survived\n",
    "y_entraîner.shape"
   ]
  },
  {
   "cell_type": "code",
   "execution_count": 36,
   "metadata": {},
   "outputs": [],
   "source": [
    "# Scale data \n",
    "scale = StandardScaler()\n",
    "toute_dummies_scaled = toute_dummies.copy()\n",
    "toute_dummies_scaled[['Age','SibSp','Parch','norm_fare']]= scale.fit_transform(toute_dummies_scaled[['Age','SibSp','Parch','norm_fare']])\n",
    "toute_dummies_scaled\n",
    "\n",
    "X_entraîner_scaled = toute_dummies_scaled[toute_dummies_scaled.train_test == 1].drop(['train_test'], axis =1)\n",
    "X_test_scaled = toute_dummies_scaled[toute_dummies_scaled.train_test == 0].drop(['train_test'], axis =1)\n",
    "\n",
    "y_entraîner = toutes_les_données[toutes_les_données.train_test==1].Survived"
   ]
  },
  {
   "cell_type": "markdown",
   "metadata": {},
   "source": [
    "# Création de modèles (performances de validation de base)\n",
    "Avant d'aller plus loin, j'aime voir comment différents modèles fonctionnent avec les paramètres par défaut. J'ai essayé les modèles suivants en utilisant la validation croisée 5 fois pour obtenir une référence. Avec une base de référence définie par la validation, nous pouvons voir dans quelle mesure le réglage améliore chacun des modèles. Ce n'est pas parce qu'un modèle a une ligne de base élevée sur cet ensemble de validation qu'il fera mieux sur l'éventuel ensemble de test.\n",
    "\n",
    "Bayes naïfs (72,6%)\n",
    "Régression logistique (82,1%)\n",
    "Arbre de décision (77,6 %)\n",
    "K Voisin le plus proche (80,5 %)\n",
    "Forêt aléatoire (80,6 %)\n",
    "Classificateur de vecteurs de support (83,2 %)\n",
    "Boost de dégradé Xtreme (81,8 %)\n",
    "Classificateur de vote doux - Tous les modèles (82,8 %)"
   ]
  },
  {
   "cell_type": "code",
   "execution_count": 26,
   "metadata": {},
   "outputs": [],
   "source": [
    "from sklearn.model_selection import cross_val_score\n",
    "from sklearn.naive_bayes import GaussianNB\n",
    "from sklearn.linear_model import LogisticRegression\n",
    "from sklearn import tree\n",
    "from sklearn.neighbors import KNeighborsClassifier\n",
    "from sklearn.ensemble import RandomForestClassifier\n",
    "from sklearn.svm import SVC"
   ]
  },
  {
   "cell_type": "markdown",
   "metadata": {},
   "source": [
    "## Bayes Naïfs "
   ]
  },
  {
   "cell_type": "code",
   "execution_count": 80,
   "metadata": {},
   "outputs": [],
   "source": [
    "#Utiliser Naive Bayes comme référence pour mes tâches de classification\n",
    "gnb = GaussianNB()\n",
    "cv = cross_val_score(gnb,X_entraîner_scaled,y_entraîner,cv=5)\n",
    "res=\"{:.2%}\".format(cv.mean())\n",
    "liste=[]\n",
    "liste.append({'Méthode':'Gaussian Bayes Naïfs','Précision':res})\n"
   ]
  },
  {
   "cell_type": "markdown",
   "metadata": {},
   "source": [
    "## Régression logistique"
   ]
  },
  {
   "cell_type": "code",
   "execution_count": 81,
   "metadata": {},
   "outputs": [],
   "source": [
    "lr = LogisticRegression(max_iter = 2000)\n",
    "cv = cross_val_score(lr,X_entraîner,y_entraîner,cv=5)\n",
    "#X scale\n",
    "lr = LogisticRegression(max_iter = 2000)\n",
    "cvs = cross_val_score(lr,X_entraîner_scaled,y_entraîner,cv=5)\n",
    "res=max([cv.mean(),cvs.mean()])\n",
    "res=\"{:.2%}\".format(res)\n",
    "liste.append({'Méthode':'Régression Logistique','Précision':res})\n"
   ]
  },
  {
   "cell_type": "markdown",
   "metadata": {},
   "source": [
    "## Arbre de décision"
   ]
  },
  {
   "cell_type": "code",
   "execution_count": 82,
   "metadata": {},
   "outputs": [],
   "source": [
    "dt = tree.DecisionTreeClassifier(random_state = 1)\n",
    "cv = cross_val_score(dt,X_entraîner,y_entraîner,cv=5)\n",
    "#X scale\n",
    "dt = tree.DecisionTreeClassifier(random_state = 1)\n",
    "cvs = cross_val_score(dt,X_entraîner_scaled,y_entraîner,cv=5)\n",
    "\n",
    "res=max([cv.mean(),cvs.mean()])\n",
    "res=\"{:.2%}\".format(res)\n",
    "liste.append({'Méthode':'Arbre de Décision','Précision':res})"
   ]
  },
  {
   "cell_type": "markdown",
   "metadata": {},
   "source": [
    "## K Plus Proche Voisin "
   ]
  },
  {
   "cell_type": "code",
   "execution_count": 83,
   "metadata": {},
   "outputs": [],
   "source": [
    "knn = KNeighborsClassifier()\n",
    "cv = cross_val_score(knn,X_entraîner,y_entraîner,cv=5)\n",
    "#X scale\n",
    "knn = KNeighborsClassifier()\n",
    "cvs = cross_val_score(knn,X_entraîner_scaled,y_entraîner,cv=5)\n",
    "\n",
    "res=max([cv.mean(),cvs.mean()])\n",
    "res=\"{:.2%}\".format(res)\n",
    "liste.append({'Méthode':'K Plus Proche Voisin','Précision':res})"
   ]
  },
  {
   "cell_type": "markdown",
   "metadata": {},
   "source": [
    "## Forêt Aléatoire"
   ]
  },
  {
   "cell_type": "code",
   "execution_count": 84,
   "metadata": {},
   "outputs": [],
   "source": [
    "rf = RandomForestClassifier(random_state = 1)\n",
    "cv = cross_val_score(rf,X_entraîner,y_entraîner,cv=5)\n",
    "#X scale\n",
    "rf = RandomForestClassifier(random_state = 1)\n",
    "cv = cross_val_score(rf,X_entraîner_scaled,y_entraîner,cv=5)\n",
    "\n",
    "res=max([cv.mean(),cvs.mean()])\n",
    "res=\"{:.2%}\".format(res)\n",
    "liste.append({'Méthode':'Forêt Aléatoire','Précision':res})"
   ]
  },
  {
   "cell_type": "markdown",
   "metadata": {},
   "source": [
    "## Séparateurs à vaste Marge"
   ]
  },
  {
   "cell_type": "code",
   "execution_count": 85,
   "metadata": {},
   "outputs": [],
   "source": [
    "svc = SVC(probability = True)\n",
    "cv = cross_val_score(svc,X_entraîner,y_entraîner,cv=5)\n",
    "\n",
    "res=\"{:.2%}\".format(cv.mean())\n",
    "liste.append({'Méthode':'Séparateurs à vaste Marge','Précision':res})"
   ]
  },
  {
   "cell_type": "markdown",
   "metadata": {},
   "source": [
    "## Boost de dégradé Xtreme "
   ]
  },
  {
   "cell_type": "code",
   "execution_count": 86,
   "metadata": {},
   "outputs": [],
   "source": [
    "from xgboost import XGBClassifier\n",
    "xgb = XGBClassifier(random_state =1)\n",
    "cv = cross_val_score(xgb,X_entraîner_scaled,y_entraîner,cv=5)\n",
    "\n",
    "res=\"{:.2%}\".format(cv.mean())\n",
    "liste.append({'Méthode':'Boost de dégradé Xtreme','Précision':res})"
   ]
  },
  {
   "cell_type": "markdown",
   "metadata": {},
   "source": [
    "## Soft Voting Classifier\n",
    "Le classificateur #Voting prend toutes les entrées et fait la moyenne des résultats. Pour un classificateur à vote « dur », chaque classificateur obtient 1 vote « oui » ou « non » et le résultat est simplement un vote populaire. Pour cela, vous voulez généralement des nombres impairs\n",
    "#Un classificateur \"doux\" fait la moyenne de la confiance de chacun des modèles. Si le niveau de confiance moyen est > 50 % qu'il s'agit d'un 1, il sera compté comme tel."
   ]
  },
  {
   "cell_type": "code",
   "execution_count": 77,
   "metadata": {},
   "outputs": [],
   "source": [
    "from sklearn.ensemble import VotingClassifier\n",
    "voting_clf = VotingClassifier(estimators = [('lr',lr),('knn',knn),('rf',rf),('gnb',gnb),('svc',svc),('xgb',xgb)], voting = 'soft') "
   ]
  },
  {
   "cell_type": "code",
   "execution_count": 87,
   "metadata": {},
   "outputs": [],
   "source": [
    "cv = cross_val_score(voting_clf,X_entraîner_scaled,y_entraîner,cv=5)\n",
    "\n",
    "res=\"{:.2%}\".format(cv.mean())\n",
    "liste.append({'Méthode':'Soft Voting Classifier','Précision':res})"
   ]
  },
  {
   "cell_type": "code",
   "execution_count": 92,
   "metadata": {},
   "outputs": [],
   "source": [
    "voting_clf.fit(X_entraîner_scaled,y_entraîner)\n",
    "y_hat_base_vc = voting_clf.predict(X_test_scaled).astype(int)\n",
    "basic_submission = {'PassengerId': emsemble_test.index, 'Survived': y_hat_base_vc}\n",
    "base_submission = po.DataFrame(data=basic_submission)\n",
    "base_submission.to_csv('base_submission.csv', index=False)"
   ]
  },
  {
   "cell_type": "code",
   "execution_count": 94,
   "metadata": {},
   "outputs": [
    {
     "data": {
      "text/html": [
       "<div>\n",
       "<style scoped>\n",
       "    .dataframe tbody tr th:only-of-type {\n",
       "        vertical-align: middle;\n",
       "    }\n",
       "\n",
       "    .dataframe tbody tr th {\n",
       "        vertical-align: top;\n",
       "    }\n",
       "\n",
       "    .dataframe thead th {\n",
       "        text-align: right;\n",
       "    }\n",
       "</style>\n",
       "<table border=\"1\" class=\"dataframe\">\n",
       "  <thead>\n",
       "    <tr style=\"text-align: right;\">\n",
       "      <th></th>\n",
       "      <th>Méthode</th>\n",
       "      <th>Précision</th>\n",
       "    </tr>\n",
       "  </thead>\n",
       "  <tbody>\n",
       "    <tr>\n",
       "      <th>0</th>\n",
       "      <td>Gaussian Bayes Naïfs</td>\n",
       "      <td>72.22%</td>\n",
       "    </tr>\n",
       "    <tr>\n",
       "      <th>1</th>\n",
       "      <td>Régression Logistique</td>\n",
       "      <td>82.12%</td>\n",
       "    </tr>\n",
       "    <tr>\n",
       "      <th>2</th>\n",
       "      <td>Arbre de Décision</td>\n",
       "      <td>77.62%</td>\n",
       "    </tr>\n",
       "    <tr>\n",
       "      <th>3</th>\n",
       "      <td>K Plus Proche Voisin</td>\n",
       "      <td>81.56%</td>\n",
       "    </tr>\n",
       "    <tr>\n",
       "      <th>4</th>\n",
       "      <td>Forêt Aléatoire</td>\n",
       "      <td>81.56%</td>\n",
       "    </tr>\n",
       "    <tr>\n",
       "      <th>5</th>\n",
       "      <td>Séparateurs à vaste Marge</td>\n",
       "      <td>72.56%</td>\n",
       "    </tr>\n",
       "    <tr>\n",
       "      <th>6</th>\n",
       "      <td>Boost de dégradé Xtreme</td>\n",
       "      <td>81.66%</td>\n",
       "    </tr>\n",
       "    <tr>\n",
       "      <th>7</th>\n",
       "      <td>Soft Voting Classifier</td>\n",
       "      <td>82.68%</td>\n",
       "    </tr>\n",
       "  </tbody>\n",
       "</table>\n",
       "</div>"
      ],
      "text/plain": [
       "                     Méthode Précision\n",
       "0       Gaussian Bayes Naïfs    72.22%\n",
       "1      Régression Logistique    82.12%\n",
       "2          Arbre de Décision    77.62%\n",
       "3       K Plus Proche Voisin    81.56%\n",
       "4            Forêt Aléatoire    81.56%\n",
       "5  Séparateurs à vaste Marge    72.56%\n",
       "6    Boost de dégradé Xtreme    81.66%\n",
       "7     Soft Voting Classifier    82.68%"
      ]
     },
     "execution_count": 94,
     "metadata": {},
     "output_type": "execute_result"
    }
   ],
   "source": [
    "tab=po.DataFrame(liste)\n",
    "tab"
   ]
  },
  {
   "cell_type": "markdown",
   "metadata": {},
   "source": [
    "# Performances Adaptées au Modèle\n",
    "Après avoir obtenu les lignes de base, essayons d'améliorer les résultats du modèle individuel. Recherche de grille principalement utilisée pour affiner les modèles. La recherche aléatoire pour la forêt aléatoire et le modèle amélioré XG sont également utilisés pour simplifier le temps de test."
   ]
  },
  {
   "cell_type": "code",
   "execution_count": 97,
   "metadata": {},
   "outputs": [],
   "source": [
    "from sklearn.model_selection import GridSearchCV \n",
    "from sklearn.model_selection import RandomizedSearchCV "
   ]
  },
  {
   "cell_type": "code",
   "execution_count": 102,
   "metadata": {},
   "outputs": [],
   "source": [
    "# fonction simple de rapport sur les performances\n",
    "def clf_performance(classificateur, nom_du_modele):\n",
    "    print(nom_du_modele)\n",
    "    print('Meilleur score: ' + str(classificateur.best_score_))\n",
    "    print('Meilleurs paramètres: ' + str(classificateur.best_params_))\n",
    "\n",
    "    res=\"{:.2%}\".format(classificateur.best_score_)\n",
    "    liste.append({'Méthode':nom_du_modele,'Précision':res})"
   ]
  },
  {
   "cell_type": "markdown",
   "metadata": {},
   "source": [
    "## Régression logistique"
   ]
  },
  {
   "cell_type": "code",
   "execution_count": 103,
   "metadata": {},
   "outputs": [
    {
     "name": "stdout",
     "output_type": "stream",
     "text": [
      "Fitting 5 folds for each of 40 candidates, totalling 200 fits\n",
      "Logistic Regression\n",
      "Meilleur score: 0.8268075922046594\n",
      "Meilleurs paramètres: {'C': 1.623776739188721, 'max_iter': 2000, 'penalty': 'l1', 'solver': 'liblinear'}\n"
     ]
    }
   ],
   "source": [
    "lr = LogisticRegression()\n",
    "param_grid = {'max_iter' : [2000],\n",
    "              'penalty' : ['l1', 'l2'],\n",
    "              'C' : np.logspace(-4, 4, 20),\n",
    "              'solver' : ['liblinear']}\n",
    "\n",
    "clf_lr = GridSearchCV(lr, param_grid = param_grid, cv = 5, verbose = True, n_jobs = -1)\n",
    "best_clf_lr = clf_lr.fit(X_entraîner_scaled,y_entraîner)\n",
    "liste=[]\n",
    "clf_performance(best_clf_lr,'Logistic Regression')"
   ]
  },
  {
   "cell_type": "markdown",
   "metadata": {},
   "source": [
    "## K Plus Proche Voisin "
   ]
  },
  {
   "cell_type": "code",
   "execution_count": 105,
   "metadata": {},
   "outputs": [
    {
     "name": "stdout",
     "output_type": "stream",
     "text": [
      "Fitting 5 folds for each of 48 candidates, totalling 240 fits\n",
      "KNN\n",
      "Meilleur score: 0.8290484352186885\n",
      "Meilleurs paramètres: {'algorithm': 'auto', 'n_neighbors': 7, 'p': 2, 'weights': 'uniform'}\n"
     ]
    }
   ],
   "source": [
    "knn = KNeighborsClassifier()\n",
    "param_grid = {'n_neighbors' : [3,5,7,9],\n",
    "              'weights' : ['uniform', 'distance'],\n",
    "              'algorithm' : ['auto', 'ball_tree','kd_tree'],\n",
    "              'p' : [1,2]}\n",
    "clf_knn = GridSearchCV(knn, param_grid = param_grid, cv = 5, verbose = True, n_jobs = -1)\n",
    "best_clf_knn = clf_knn.fit(X_entraîner_scaled,y_entraîner)\n",
    "clf_performance(best_clf_knn,'KNN')"
   ]
  },
  {
   "cell_type": "markdown",
   "metadata": {},
   "source": [
    "## Forêt Aléatoire"
   ]
  },
  {
   "cell_type": "code",
   "execution_count": null,
   "metadata": {},
   "outputs": [],
   "source": [
    "rf = RandomForestClassifier(random_state = 1)\n",
    "param_grid =  {'n_estimators': [400,450,500,550],\n",
    "               'criterion':['gini','entropy'],\n",
    "                                  'bootstrap': [True],\n",
    "                                  'max_depth': [15, 20, 25],\n",
    "                                  'max_features': ['auto','sqrt', 10],\n",
    "                                  'min_samples_leaf': [2,3],\n",
    "                                  'min_samples_split': [2,3]}\n",
    "                                  \n",
    "clf_rf = GridSearchCV(rf, param_grid = param_grid, cv = 5, verbose = True, n_jobs = -1)\n",
    "best_clf_rf = clf_rf.fit(X_entraîner_scaled,y_entraîner)\n",
    "clf_performance(best_clf_rf,'Random Forest')"
   ]
  },
  {
   "cell_type": "markdown",
   "metadata": {},
   "source": [
    "## Séparateurs à vaste Marge"
   ]
  },
  {
   "cell_type": "code",
   "execution_count": 108,
   "metadata": {},
   "outputs": [
    {
     "name": "stdout",
     "output_type": "stream",
     "text": [
      "Fitting 5 folds for each of 55 candidates, totalling 275 fits\n",
      "SVC\n",
      "Meilleur score: 0.8324319177299563\n",
      "Meilleurs paramètres: {'C': 1, 'gamma': 0.1, 'kernel': 'rbf'}\n"
     ]
    }
   ],
   "source": [
    "svc = SVC(probability = True)\n",
    "param_grid = tuned_parameters = [{'kernel': ['rbf'], 'gamma': [.1,.5,1,2,5,10],\n",
    "                                  'C': [.1, 1, 10, 100, 1000]},\n",
    "                                 {'kernel': ['linear'], 'C': [.1, 1, 10, 100, 1000]},\n",
    "                                 {'kernel': ['poly'], 'degree' : [2,3,4,5], 'C': [.1, 1, 10, 100, 1000]}]\n",
    "clf_svc = GridSearchCV(svc, param_grid = param_grid, cv = 5, verbose = True, n_jobs = -1)\n",
    "best_clf_svc = clf_svc.fit(X_entraîner_scaled,y_entraîner)\n",
    "clf_performance(best_clf_svc,'SVC')"
   ]
  },
  {
   "cell_type": "markdown",
   "metadata": {},
   "source": [
    "## Boost de dégradé Xtreme "
   ]
  },
  {
   "cell_type": "code",
   "execution_count": null,
   "metadata": {},
   "outputs": [],
   "source": [
    "xgb = XGBClassifier(random_state = 1)\n",
    "\n",
    "param_grid = {\n",
    "    'n_estimators': [450,500,550],\n",
    "    'colsample_bytree': [0.75,0.8,0.85],\n",
    "    'max_depth': [None],\n",
    "    'reg_alpha': [1],\n",
    "    'reg_lambda': [2, 5, 10],\n",
    "    'subsample': [0.55, 0.6, .65],\n",
    "    'learning_rate':[0.5],\n",
    "    'gamma':[.5,1,2],\n",
    "    'min_child_weight':[0.01],\n",
    "    'sampling_method': ['uniform']\n",
    "}\n",
    "\n",
    "clf_xgb = GridSearchCV(xgb, param_grid = param_grid, cv = 5, verbose = True, n_jobs = -1)\n",
    "best_clf_xgb = clf_xgb.fit(X_entraîner_scaled,y_entraîner)\n",
    "clf_performance(best_clf_xgb,'XGB')\n",
    "\n",
    "y_hat_xgb = best_clf_xgb.best_estimator_.predict(X_entraîner_scaled).astype(int)\n",
    "xgb_submission = {'PassengerId': emsemble_test.index, 'Survived': y_hat_xgb}\n",
    "submission_xgb = po.DataFrame(data=xgb_submission)\n",
    "submission_xgb.to_csv('xgb_submission3.csv', index=False)"
   ]
  },
  {
   "cell_type": "code",
   "execution_count": 115,
   "metadata": {},
   "outputs": [
    {
     "data": {
      "text/html": [
       "<div>\n",
       "<style scoped>\n",
       "    .dataframe tbody tr th:only-of-type {\n",
       "        vertical-align: middle;\n",
       "    }\n",
       "\n",
       "    .dataframe tbody tr th {\n",
       "        vertical-align: top;\n",
       "    }\n",
       "\n",
       "    .dataframe thead th {\n",
       "        text-align: right;\n",
       "    }\n",
       "</style>\n",
       "<table border=\"1\" class=\"dataframe\">\n",
       "  <thead>\n",
       "    <tr style=\"text-align: right;\">\n",
       "      <th></th>\n",
       "      <th>Méthode</th>\n",
       "      <th>Précision</th>\n",
       "    </tr>\n",
       "  </thead>\n",
       "  <tbody>\n",
       "    <tr>\n",
       "      <th>0</th>\n",
       "      <td>Logistic Regression</td>\n",
       "      <td>82.68%</td>\n",
       "    </tr>\n",
       "    <tr>\n",
       "      <th>1</th>\n",
       "      <td>KNN</td>\n",
       "      <td>82.90%</td>\n",
       "    </tr>\n",
       "    <tr>\n",
       "      <th>2</th>\n",
       "      <td>Random Forest</td>\n",
       "      <td>83.58%</td>\n",
       "    </tr>\n",
       "    <tr>\n",
       "      <th>3</th>\n",
       "      <td>SVC</td>\n",
       "      <td>83.24%</td>\n",
       "    </tr>\n",
       "    <tr>\n",
       "      <th>4</th>\n",
       "      <td>XGB</td>\n",
       "      <td>84.48%</td>\n",
       "    </tr>\n",
       "    <tr>\n",
       "      <th>5</th>\n",
       "      <td>XGB</td>\n",
       "      <td>84.48%</td>\n",
       "    </tr>\n",
       "  </tbody>\n",
       "</table>\n",
       "</div>"
      ],
      "text/plain": [
       "               Méthode Précision\n",
       "0  Logistic Regression    82.68%\n",
       "1                  KNN    82.90%\n",
       "2        Random Forest    83.58%\n",
       "3                  SVC    83.24%\n",
       "4                  XGB    84.48%\n",
       "5                  XGB    84.48%"
      ]
     },
     "execution_count": 115,
     "metadata": {},
     "output_type": "execute_result"
    }
   ],
   "source": [
    "tab2=po.DataFrame(liste)\n",
    "tab2"
   ]
  },
  {
   "cell_type": "code",
   "execution_count": 112,
   "metadata": {},
   "outputs": [
    {
     "data": {
      "text/plain": [
       "<Axes: >"
      ]
     },
     "execution_count": 112,
     "metadata": {},
     "output_type": "execute_result"
    },
    {
     "data": {
      "image/png": "[encoded data removed]",
      "text/plain": [
       "<Figure size 640x480 with 1 Axes>"
      ]
     },
     "metadata": {},
     "output_type": "display_data"
    }
   ],
   "source": [
    "best_rf = best_clf_rf.best_estimator_.fit(X_entraîner_scaled,y_entraîner)\n",
    "feat_importances = po.Series(best_rf.feature_importances_, index=X_entraîner_scaled.columns)\n",
    "feat_importances.nlargest(20).plot(kind='barh')"
   ]
  },
  {
   "cell_type": "markdown",
   "metadata": {},
   "source": [
    "# Modéliser des approches d’ensemble supplémentaires"
   ]
  },
  {
   "cell_type": "code",
   "execution_count": null,
   "metadata": {},
   "outputs": [],
   "source": [
    "best_lr = best_clf_lr.best_estimator_\n",
    "best_knn = best_clf_knn.best_estimator_\n",
    "best_svc = best_clf_svc.best_estimator_\n",
    "best_rf = best_clf_rf.best_estimator_\n",
    "best_xgb = best_clf_xgb.best_estimator_\n",
    "\n",
    "voting_clf_hard = VotingClassifier(estimators = [('knn',best_knn),('rf',best_rf),('svc',best_svc)], voting = 'hard') \n",
    "voting_clf_soft = VotingClassifier(estimators = [('knn',best_knn),('rf',best_rf),('svc',best_svc)], voting = 'soft') \n",
    "voting_clf_all = VotingClassifier(estimators = [('knn',best_knn),('rf',best_rf),('svc',best_svc), ('lr', best_lr)], voting = 'soft') \n",
    "voting_clf_xgb = VotingClassifier(estimators = [('knn',best_knn),('rf',best_rf),('svc',best_svc), ('xgb', best_xgb),('lr', best_lr)], voting = 'soft')\n",
    "\n",
    "print('voting_clf_hard :',cross_val_score(voting_clf_hard,X_entraîner_scaled,y_entraîner,cv=5))\n",
    "print('voting_clf_hard mean :',cross_val_score(voting_clf_hard,X_entraîner_scaled,y_entraîner,cv=5).mean())\n",
    "\n",
    "print('voting_clf_soft :',cross_val_score(voting_clf_soft,X_entraîner_scaled,y_entraîner,cv=5))\n",
    "print('voting_clf_soft mean :',cross_val_score(voting_clf_soft,X_entraîner_scaled,y_entraîner,cv=5).mean())\n",
    "\n",
    "print('voting_clf_all :',cross_val_score(voting_clf_all,X_entraîner_scaled,y_entraîner,cv=5))\n",
    "print('voting_clf_all mean :',cross_val_score(voting_clf_all,X_entraîner_scaled,y_entraîner,cv=5).mean())\n",
    "\n",
    "print('voting_clf_xgb :',cross_val_score(voting_clf_xgb,X_entraîner_scaled,y_entraîner,cv=5))\n",
    "print('voting_clf_xgb mean :',cross_val_score(voting_clf_xgb,X_entraîner_scaled,y_entraîner,cv=5).mean())"
   ]
  },
  {
   "cell_type": "code",
   "execution_count": null,
   "metadata": {},
   "outputs": [],
   "source": [
    "#Dans un classificateur de vote doux, vous pouvez pondérer certains modèles plus que d'autres. J'ai utilisé une recherche \n",
    "#par grille pour explorer différentes pondérations pas de nouveaux résultats ici\n",
    "params = {'weights' : [[1,1,1],[1,2,1],[1,1,2],[2,1,1],[2,2,1],[1,2,2],[2,1,2]]}\n",
    "\n",
    "vote_weight = GridSearchCV(voting_clf_soft, param_grid = params, cv = 5, verbose = True, n_jobs = -1)\n",
    "best_clf_weight = vote_weight.fit(X_entraîner_scaled,y_entraîner)\n",
    "clf_performance(best_clf_weight,'VC Weights')\n",
    "voting_clf_sub = best_clf_weight.best_estimator_.predict(X_entraîner_scaled)"
   ]
  },
  {
   "cell_type": "code",
   "execution_count": null,
   "metadata": {},
   "outputs": [],
   "source": [
    "#Faire des prédictions\n",
    "voting_clf_hard.fit(X_entraîner_scaled, y_entraîner)\n",
    "voting_clf_soft.fit(X_entraîner_scaled, y_entraîner)\n",
    "voting_clf_all.fit(X_entraîner_scaled, y_entraîner)\n",
    "voting_clf_xgb.fit(X_entraîner_scaled, y_entraîner)\n",
    "\n",
    "best_rf.fit(X_entraîner_scaled, y_entraîner)\n",
    "y_hat_vc_hard = voting_clf_hard.predict(X_entraîner_scaled).astype(int)\n",
    "y_hat_rf = best_rf.predict(X_entraîner_scaled).astype(int)\n",
    "y_hat_vc_soft =  voting_clf_soft.predict(X_entraîner_scaled).astype(int)\n",
    "y_hat_vc_all = voting_clf_all.predict(X_entraîner_scaled).astype(int)\n",
    "y_hat_vc_xgb = voting_clf_xgb.predict(X_entraîner_scaled).astype(int)"
   ]
  },
  {
   "cell_type": "code",
   "execution_count": null,
   "metadata": {},
   "outputs": [],
   "source": [
    "#convertir la sortie en dataframe\n",
    "final_data = {'PassengerId': emsemble_test.PassengerId, 'Survived': y_hat_rf}\n",
    "submission = po.DataFrame(data=final_data)\n",
    "\n",
    "final_data_2 = {'PassengerId': emsemble_test.PassengerId, 'Survived': y_hat_vc_hard}\n",
    "submission_2 = po.DataFrame(data=final_data_2)\n",
    "\n",
    "final_data_3 = {'PassengerId': emsemble_test.PassengerId, 'Survived': y_hat_vc_soft}\n",
    "submission_3 = po.DataFrame(data=final_data_3)\n",
    "\n",
    "final_data_4 = {'PassengerId': emsemble_test.PassengerId, 'Survived': y_hat_vc_all}\n",
    "submission_4 = po.DataFrame(data=final_data_4)\n",
    "\n",
    "final_data_5 = {'PassengerId': emsemble_test.PassengerId, 'Survived': y_hat_vc_xgb}\n",
    "submission_5 = po.DataFrame(data=final_data_5)\n",
    "\n",
    "final_data_comp = {'PassengerId': emsemble_test.PassengerId, 'Survived_vc_hard': y_hat_vc_hard, 'Survived_rf': y_hat_rf, 'Survived_vc_soft' : y_hat_vc_soft, 'Survived_vc_all' : y_hat_vc_all,  'Survived_vc_xgb' : y_hat_vc_xgb}\n",
    "comparison = po.DataFrame(data=final_data_comp)"
   ]
  },
  {
   "cell_type": "code",
   "execution_count": null,
   "metadata": {},
   "outputs": [],
   "source": [
    "#suivre les différences entre les sorties \n",
    "comparison['difference_rf_vc_hard'] = comparison.apply(lambda x: 1 if x.Survived_vc_hard != x.Survived_rf else 0, axis =1)\n",
    "comparison['difference_soft_hard'] = comparison.apply(lambda x: 1 if x.Survived_vc_hard != x.Survived_vc_soft else 0, axis =1)\n",
    "comparison['difference_hard_all'] = comparison.apply(lambda x: 1 if x.Survived_vc_all != x.Survived_vc_hard else 0, axis =1)"
   ]
  },
  {
   "cell_type": "code",
   "execution_count": null,
   "metadata": {},
   "outputs": [],
   "source": [
    "comparison.difference_hard_all.value_counts()"
   ]
  }
 ],
 "metadata": {
  "kernelspec": {
   "display_name": "Python 3",
   "language": "python",
   "name": "python3"
  },
  "language_info": {
   "codemirror_mode": {
    "name": "ipython",
    "version": 3
   },
   "file_extension": ".py",
   "mimetype": "text/x-python",
   "name": "python",
   "nbconvert_exporter": "python",
   "pygments_lexer": "ipython3",
   "version": "3.11.5"
  }
 },
 "nbformat": 4,
 "nbformat_minor": 2
}
